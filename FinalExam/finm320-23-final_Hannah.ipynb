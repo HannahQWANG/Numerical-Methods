{
 "cells": [
  {
   "cell_type": "code",
   "execution_count": 17,
   "metadata": {
    "id": "N3NcmSyD_n-h"
   },
   "outputs": [],
   "source": [
    "import numpy as np\n",
    "from scipy.stats import norm"
   ]
  },
  {
   "cell_type": "code",
   "execution_count": 18,
   "metadata": {
    "id": "5CQyoplL_n-k"
   },
   "outputs": [],
   "source": [
    "class GBM:\n",
    "\n",
    "    def __init__(self,S0,r,sigma=None):\n",
    "        self.S0=S0\n",
    "        self.r=r\n",
    "        self.sigma=sigma\n"
   ]
  },
  {
   "cell_type": "code",
   "execution_count": 19,
   "metadata": {
    "id": "MGfoxQrr_n-k"
   },
   "outputs": [],
   "source": [
    "class Call:\n",
    "\n",
    "    def __init__(self,K,T):\n",
    "        self.K=K\n",
    "        self.T=T\n",
    "\n",
    "    #You will probably want to insert another function here, to support the control variate calculation in (b)"
   ]
  },
  {
   "cell_type": "code",
   "execution_count": 20,
   "metadata": {
    "id": "qA_ASvUaC97l"
   },
   "outputs": [],
   "source": [
    "class CallOnAverage:\n",
    "\n",
    "    def __init__(self,K,T0,T1):\n",
    "        self.K = K\n",
    "        self.T0 = T0\n",
    "        self.T1 = T1"
   ]
  },
  {
   "cell_type": "code",
   "execution_count": 56,
   "metadata": {
    "id": "UXmRgYDM_n-l"
   },
   "outputs": [],
   "source": [
    "class MC:\n",
    "\n",
    "    def __init__(self,M,seed,useControl):\n",
    "        self.M = M  #number of paths\n",
    "        self.rng = np.random.default_rng(seed=seed) # Seeding the random number generator with a specified number helps make the calculations reproducible\n",
    "        self.useControl = useControl\n",
    "\n",
    "    def randomLogreturn(self,dynamics,deltat):\n",
    "        return (dynamics.r-dynamics.sigma**2/2)*deltat + dynamics.sigma*np.sqrt(deltat)*self.rng.normal(size=self.M)\n",
    "\n",
    "    def price_CallOnAverage_GBM(self,contract,dynamics):\n",
    "    \n",
    "        #You fill this in.  If self.useControl is False, then this should do part (a), otherwise it should do part (b)\n",
    "        S05 = dynamics.S0 * np.exp(self.randomLogreturn(dynamics,contract.T0))\n",
    "        S10 = S05 * np.exp(self.randomLogreturn(dynamics,contract.T1-contract.T0))\n",
    "        zeropayoff = np.zeros(self.M)\n",
    "        payoff = np.exp(-dynamics.r*contract.T1) * np.maximum((S05+S10)/2-contract.K,zeropayoff)\n",
    "        price = np.mean(payoff)\n",
    "        standard_error = np.std(payoff)/np.sqrt(self.M)\n",
    "        \n",
    "        def BScallPrice(sigma,S,rGrow,r,K,T):\n",
    "            F=S*np.exp(rGrow*T)\n",
    "            sd = sigma*np.sqrt(T)\n",
    "            d1 = np.log(F/K)/sd+sd/2\n",
    "            d2 = d1-sd\n",
    "            return np.exp(-r*T)*(F*norm.cdf(d1)-K*norm.cdf(d2))\n",
    "    \n",
    "            \n",
    "        if self.useControl:\n",
    "            Strike = 12\n",
    "            T = 1\n",
    "\n",
    "            control_price = BScallPrice(dynamics.sigma, dynamics.S0, dynamics.r, dynamics.r, Strike, T)\n",
    "            control_payoff = np.exp(-dynamics.r*contract.T1) * np.maximum(S10-Strike,zeropayoff)\n",
    "        \n",
    "            cov = np.cov(payoff, control_payoff)\n",
    "            beta = cov[0,1] / cov[1,1]\n",
    "            Y_con = payoff + beta*(control_price - control_payoff)\n",
    "            call_price = np.mean(Y_con)\n",
    "            standard_error = np.std(Y_con) / np.sqrt(self.M)\n",
    "\n",
    "            correlation = np.corrcoef(payoff, control_payoff)[0, 1]\n",
    "            print(\"Correlation between the contract and the control variate: \", correlation)\n",
    "    \n",
    "        \n",
    "\n",
    "        return(price, standard_error)\n",
    "        "
   ]
  },
  {
   "cell_type": "code",
   "execution_count": 57,
   "metadata": {
    "id": "LR8WHSpv_n-o"
   },
   "outputs": [],
   "source": [
    "p3dynamics = GBM(sigma=0.70,S0=10,r=0.02)"
   ]
  },
  {
   "cell_type": "code",
   "execution_count": 58,
   "metadata": {
    "id": "2qPJ4byU_n-o"
   },
   "outputs": [],
   "source": [
    "p3contract = CallOnAverage(K=12,T0=0.5,T1=1.0)"
   ]
  },
  {
   "cell_type": "code",
   "execution_count": 59,
   "metadata": {
    "id": "j9o69w-i_n-p"
   },
   "outputs": [
    {
     "name": "stdout",
     "output_type": "stream",
     "text": [
      "1.5735749676914146 0.013133445215084201\n"
     ]
    }
   ],
   "source": [
    "p3aMC = MC(M=100000,seed=0,useControl=False) \n",
    "(price3a, standard_error3a) = p3aMC.price_CallOnAverage_GBM(p3contract,p3dynamics)\n",
    "print(price3a, standard_error3a)"
   ]
  },
  {
   "cell_type": "code",
   "execution_count": 60,
   "metadata": {
    "id": "uN-XBBpwuFAn"
   },
   "outputs": [
    {
     "name": "stdout",
     "output_type": "stream",
     "text": [
      "Correlation between the contract and the control variate:  0.9395339840925212\n",
      "1.5735749676914146 0.0044976229113177614\n"
     ]
    }
   ],
   "source": [
    "p3bMC = MC(M=100000,seed=0,useControl=True)\n",
    "(price3b, standard_error3b) = p3bMC.price_CallOnAverage_GBM(p3contract,p3dynamics)\n",
    "print(price3b, standard_error3b)"
   ]
  },
  {
   "cell_type": "code",
   "execution_count": null,
   "metadata": {},
   "outputs": [],
   "source": []
  },
  {
   "cell_type": "code",
   "execution_count": null,
   "metadata": {},
   "outputs": [],
   "source": []
  }
 ],
 "metadata": {
  "anaconda-cloud": {},
  "colab": {
   "provenance": []
  },
  "kernelspec": {
   "display_name": "Python 3 (ipykernel)",
   "language": "python",
   "name": "python3"
  },
  "language_info": {
   "codemirror_mode": {
    "name": "ipython",
    "version": 3
   },
   "file_extension": ".py",
   "mimetype": "text/x-python",
   "name": "python",
   "nbconvert_exporter": "python",
   "pygments_lexer": "ipython3",
   "version": "3.9.13"
  }
 },
 "nbformat": 4,
 "nbformat_minor": 1
}
