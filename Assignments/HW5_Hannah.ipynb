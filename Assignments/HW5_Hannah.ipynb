{
 "cells": [
  {
   "cell_type": "markdown",
   "metadata": {},
   "source": [
    "# Numerical Method HW 5\n",
    "# Hannah Wang"
   ]
  },
  {
   "cell_type": "markdown",
   "metadata": {},
   "source": [
    "## Question 1 "
   ]
  },
  {
   "cell_type": "markdown",
   "metadata": {},
   "source": [
    "### 1(a) "
   ]
  },
  {
   "cell_type": "markdown",
   "metadata": {},
   "source": [
    "As T2-delivery forward price Ft: a forward contract paying ST2 − Ft at time T2 has time-t value 0, then"
   ]
  },
  {
   "cell_type": "markdown",
   "metadata": {},
   "source": [
    "$$S_{T_2}-F_t = S_0 - e^{-r (T_2-t)} F_t$$\n",
    "$$S_{T_2}-K = S_0 - e^{-r (T_2-t)}K $$"
   ]
  },
  {
   "cell_type": "markdown",
   "metadata": {},
   "source": [
    "Thus,"
   ]
  },
  {
   "cell_type": "markdown",
   "metadata": {},
   "source": [
    "$$ f_t = (S_{T_2}-K) - (S_{T_2}-F_t) = e^{-r (T_2-t)} (F_t-K) $$"
   ]
  },
  {
   "cell_type": "markdown",
   "metadata": {},
   "source": [
    "### 1(b)"
   ]
  },
  {
   "cell_type": "markdown",
   "metadata": {},
   "source": [
    "For crude oil, it will require the warehousing cost and the delivery cost. It is not frictionless."
   ]
  },
  {
   "cell_type": "markdown",
   "metadata": {},
   "source": [
    "### 1(c) 1(d)"
   ]
  },
  {
   "cell_type": "code",
   "execution_count": 82,
   "metadata": {},
   "outputs": [],
   "source": [
    "import numpy as np"
   ]
  },
  {
   "cell_type": "code",
   "execution_count": 83,
   "metadata": {},
   "outputs": [],
   "source": [
    "# Exponential Ornstein-Uhlenbeck process\n",
    "\n",
    "class XOU:\n",
    "    \n",
    "    def __init__(self, kappa, alpha, sigma, S0, r):\n",
    "        \n",
    "        self.kappa = kappa\n",
    "        self.alpha = alpha\n",
    "        self.sigma = sigma\n",
    "        self.S0 = S0\n",
    "        self.r = r"
   ]
  },
  {
   "cell_type": "code",
   "execution_count": 84,
   "metadata": {},
   "outputs": [],
   "source": [
    "hw5dynamics=XOU(kappa = 0.472, alpha = 4.4, sigma = 0.368, S0 = 106.9, r = 0.05)"
   ]
  },
  {
   "cell_type": "code",
   "execution_count": 85,
   "metadata": {},
   "outputs": [],
   "source": [
    "class CallOnForwardPrice:\n",
    "    \n",
    "    def __init__(self, K1, T1, T2):\n",
    "        \n",
    "        self.K1 = K1\n",
    "        self.T1 = T1\n",
    "        self.T2 = T2\n",
    "        "
   ]
  },
  {
   "cell_type": "code",
   "execution_count": 86,
   "metadata": {},
   "outputs": [],
   "source": [
    "hw5contract=CallOnForwardPrice(K1 = 103.2, T1 = 0.5, T2 = 0.75)"
   ]
  },
  {
   "cell_type": "code",
   "execution_count": 1,
   "metadata": {},
   "outputs": [],
   "source": [
    "class MC:\n",
    "    \n",
    "    def __init__(self, N, M, epsilon, seed):\n",
    "        \n",
    "        self.N = N   # Number of timesteps on each path\n",
    "        self.M = M   # Number of paths\n",
    "        self.epsilon = epsilon  # For the dC/dS calculation\n",
    "        self.rng = np.random.default_rng(seed=seed) # Seeding the random number generator with a specified number helps make the calculations reproducible\n",
    "    \n",
    "    def price_call_XOU(self, contract, dynamics):\n",
    "            \n",
    "        # You complete the coding of this function\n",
    "        # self.rng.normal() generates pseudo-random normals\n",
    "        S0, kappa, alpha, r, sigma = dynamics.S0, dynamics.kappa, dynamics.alpha, dynamics.r, dynamics.sigma\n",
    "        T1, T2, K1 = contract.T1, contract.T2, contract.K1\n",
    "        \n",
    "        deltat = T1 / self.N\n",
    "        sigma2 = sigma*np.sqrt(deltat)\n",
    "        \n",
    "        X = np.zeros((self.M, self.N+1))\n",
    "        X[:,0] = np.ones(self.M)*np.log(S0)\n",
    "        X2 = np.zeros((self.M, self.N+1))\n",
    "        X2[:,0] = np.ones(self.M)*np.log(S0+self.epsilon)\n",
    "        \n",
    "        for i in range(self.N):\n",
    "            dW = np.random.randn(self.M)\n",
    "            X_t = X[:,i]\n",
    "            X[:,i+1] = X_t + kappa*(alpha-X_t)*deltat + sigma2*dW\n",
    "            X_t2 = X2[:,i]\n",
    "            X2[:,i+1] = X_t2 + kappa*(alpha-X_t2)*deltat + sigma2*dW\n",
    "    \n",
    "        S = np.exp(X)\n",
    "        t = np.linspace(0, T1, self.N+1)\n",
    "        F = np.exp(np.exp(-kappa * (T2-t))*X + (1-np.exp(-kappa * (T2-t)))*alpha + sigma**2/(4*kappa)*(1-np.exp(-kappa * (T2-t))**2))\n",
    "        C = np.exp(-r*T1) * np.maximum(F[:,-1] - K1, 0)\n",
    "        call_price = np.mean(C)\n",
    "        standard_error = np.std(C, ddof=1) / np.sqrt(self.M)\n",
    "    \n",
    "        F2 = np.exp(np.exp(-kappa * (T2-t))*X2 + (1-np.exp(-kappa * (T2-t)))*alpha + sigma**2/(4*kappa)*(1-np.exp(-kappa * (T2-t))**2))\n",
    "        C2 = np.exp(-r*T1) * np.maximum(F2[:,-1] - K1, 0)\n",
    "        call_delta = (np.mean(C2) - call_price) / self.epsilon\n",
    "        \n",
    "        return(call_price, standard_error, call_delta)\n",
    "        "
   ]
  },
  {
   "cell_type": "code",
   "execution_count": 88,
   "metadata": {},
   "outputs": [],
   "source": [
    "hw5MC = MC(N=100, M=100000, epsilon=0.01, seed=0)\n",
    "# Change M if necessary"
   ]
  },
  {
   "cell_type": "code",
   "execution_count": 89,
   "metadata": {},
   "outputs": [],
   "source": [
    "(call_price, standard_error, call_delta) = hw5MC.price_call_XOU(hw5contract,hw5dynamics)"
   ]
  },
  {
   "cell_type": "code",
   "execution_count": 90,
   "metadata": {},
   "outputs": [
    {
     "name": "stdout",
     "output_type": "stream",
     "text": [
      "7.794311442516019 0.042282442513031954 0.34128845280054776\n"
     ]
    }
   ],
   "source": [
    "print(call_price, standard_error, call_delta)"
   ]
  },
  {
   "cell_type": "markdown",
   "metadata": {},
   "source": [
    "### 1(e) "
   ]
  },
  {
   "cell_type": "markdown",
   "metadata": {},
   "source": [
    "We know that\n",
    "\n",
    "$ f_t = e^{-r (T_2-t)} (F_t-K) $"
   ]
  },
  {
   "cell_type": "markdown",
   "metadata": {},
   "source": [
    "$ F_t = exp \\bigg[ e^{-\\kappa (T_2-t)} \\log S_t + (1-e^{-\\kappa (T_2-t)})\\alpha + \\frac{\\sigma^2}{4\\kappa} (1-e^{-2\\kappa (T_2-t)}) \\bigg]$"
   ]
  },
  {
   "cell_type": "markdown",
   "metadata": {},
   "source": [
    "Then,\n",
    "\n",
    "$ \\frac{\\partial F_0}{\\partial S} = e^{-\\kappa T_2} S_t^{e^{-\\kappa T_2} -1} exp \\bigg[ (1-e^{-\\kappa T_2})\\alpha + \\frac{\\sigma^2}{4\\kappa} (1-e^{-2\\kappa T_2}) \\bigg] $"
   ]
  },
  {
   "cell_type": "markdown",
   "metadata": {},
   "source": [
    "$ \\frac{\\partial f_0}{\\partial S}$\n",
    "$= e^{-r T_2} \\frac{\\partial F_0}{\\partial S}$\n",
    "$= S_0^{e^{-\\kappa T_2} -1} exp \\bigg[ T_2 (-r-\\kappa) + (1-e^{-\\kappa (T_2)})\\alpha + \\frac{\\sigma^2}{4\\kappa} (1-e^{-2\\kappa (T_2)}) \\bigg]$"
   ]
  },
  {
   "cell_type": "code",
   "execution_count": 91,
   "metadata": {},
   "outputs": [
    {
     "name": "stdout",
     "output_type": "stream",
     "text": [
      "0.6465109164314246\n"
     ]
    }
   ],
   "source": [
    "T2 = hw5contract.T2\n",
    "kappa, alpha, sigma, S0, r = hw5dynamics.kappa, hw5dynamics.alpha, hw5dynamics.sigma, hw5dynamics.S0, hw5dynamics.r\n",
    "\n",
    "forward_delta = S0**(np.exp(-kappa*T2)-1) * np.exp(T2 * (-r-kappa) + (1-np.exp(-kappa*T2))*alpha + sigma**2/(4*kappa)*(1-np.exp(-2*kappa*T2)))\n",
    "print(forward_delta)"
   ]
  },
  {
   "cell_type": "markdown",
   "metadata": {},
   "source": [
    "### 1(f) "
   ]
  },
  {
   "cell_type": "code",
   "execution_count": 92,
   "metadata": {},
   "outputs": [
    {
     "name": "stdout",
     "output_type": "stream",
     "text": [
      "0.5278927921037637\n"
     ]
    }
   ],
   "source": [
    "print(call_delta/forward_delta)"
   ]
  },
  {
   "cell_type": "markdown",
   "metadata": {},
   "source": [
    "### 1(g)"
   ]
  },
  {
   "cell_type": "code",
   "execution_count": 93,
   "metadata": {},
   "outputs": [
    {
     "name": "stdout",
     "output_type": "stream",
     "text": [
      "4058.4742918982947\n"
     ]
    }
   ],
   "source": [
    "T1, K1 = hw5contract.T1, hw5contract.K1\n",
    "\n",
    "F_0 = np.exp(np.exp(-kappa*(T2))*np.log(S0) + (1-np.exp(-kappa*(T2)))*alpha + sigma**2/(4*kappa)*(1-np.exp(-2*kappa*(T2))))\n",
    "f_0 = np.exp(-r*(T2)) * (F_0-K1)\n",
    "\n",
    "contract_price = 4000*f_0 + 1000*call_price\n",
    "print(contract_price)"
   ]
  },
  {
   "cell_type": "markdown",
   "metadata": {},
   "source": [
    "## Question 2 "
   ]
  },
  {
   "cell_type": "markdown",
   "metadata": {},
   "source": [
    "### 2(a) "
   ]
  },
  {
   "cell_type": "markdown",
   "metadata": {},
   "source": [
    "Find the expectation and standard deviation of the fraction of the pot that Patrik will collect, when the last card (the “river”) is dealt in the usual way."
   ]
  },
  {
   "cell_type": "markdown",
   "metadata": {},
   "source": [
    "$$ E[P] = \\frac{34}{44} = 0.7727$$"
   ]
  },
  {
   "cell_type": "markdown",
   "metadata": {},
   "source": [
    "$$ Std[P] = \\sqrt {Var[P]} = \\sqrt {E[P^2] - E[P]^2} = \\sqrt {0.1756} = 0.4191$$"
   ]
  },
  {
   "cell_type": "markdown",
   "metadata": {},
   "source": [
    "### 2(b) "
   ]
  },
  {
   "cell_type": "markdown",
   "metadata": {},
   "source": [
    "With replacement,"
   ]
  },
  {
   "cell_type": "markdown",
   "metadata": {},
   "source": [
    "$$ E[3P_i] = \\frac{1}{3} * \\frac{34}{44} * 3 = 0.7727$$"
   ]
  },
  {
   "cell_type": "markdown",
   "metadata": {},
   "source": [
    "$$ Std[3P_i] = \\sqrt {3Var[P_i]} = \\sqrt {3*(E[P_i^2] - E[P_i]^2)} = \\sqrt {3*(\\frac{1}{9}*\\frac{34}{44} - (\\frac{1}{3} * \\frac{34}{44})^2)} = 0.2420 $$\n"
   ]
  },
  {
   "cell_type": "markdown",
   "metadata": {},
   "source": [
    "### 2(c) "
   ]
  },
  {
   "cell_type": "markdown",
   "metadata": {},
   "source": [
    "Without replacement,"
   ]
  },
  {
   "cell_type": "markdown",
   "metadata": {},
   "source": [
    "The standard deviation of the run without replacement is smaller. It is because without replacement, the next run becomes more predictable. "
   ]
  },
  {
   "cell_type": "markdown",
   "metadata": {},
   "source": [
    "$$ E[P] = \\sum_{i=0}^3 \\frac{\\binom{34}{i}\\binom{10}{3-i}}{\\binom{44}{3}} \\frac{i}{3} = 0.7727 $$"
   ]
  },
  {
   "cell_type": "markdown",
   "metadata": {},
   "source": [
    "$$ Std[P] = \\sqrt{Var[P]} = \\sqrt {\\sum_{i=0}^3 \\frac{\\binom{34}{i}\\binom{10}{3-i}}{\\binom{44}{3}} \\bigg( \\frac{i}{3} - E[P] \\bigg)^2}= 0.2363 $$"
   ]
  }
 ],
 "metadata": {
  "anaconda-cloud": {},
  "kernelspec": {
   "display_name": "Python 3 (ipykernel)",
   "language": "python",
   "name": "python3"
  },
  "language_info": {
   "codemirror_mode": {
    "name": "ipython",
    "version": 3
   },
   "file_extension": ".py",
   "mimetype": "text/x-python",
   "name": "python",
   "nbconvert_exporter": "python",
   "pygments_lexer": "ipython3",
   "version": "3.9.13"
  },
  "toc": {
   "base_numbering": 1,
   "nav_menu": {},
   "number_sections": true,
   "sideBar": true,
   "skip_h1_title": false,
   "title_cell": "Table of Contents",
   "title_sidebar": "Contents",
   "toc_cell": false,
   "toc_position": {},
   "toc_section_display": true,
   "toc_window_display": false
  }
 },
 "nbformat": 4,
 "nbformat_minor": 2
}
