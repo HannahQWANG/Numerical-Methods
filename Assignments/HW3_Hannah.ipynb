{
 "cells": [
  {
   "cell_type": "markdown",
   "metadata": {},
   "source": [
    "# HW3 \n",
    "# Hannah Wang"
   ]
  },
  {
   "cell_type": "markdown",
   "metadata": {},
   "source": [
    "## Question 1"
   ]
  },
  {
   "cell_type": "markdown",
   "metadata": {},
   "source": [
    "### (a)"
   ]
  },
  {
   "cell_type": "markdown",
   "metadata": {},
   "source": [
    "\n",
    "$dC_t = \\frac{\\partial C}{\\partial r_t}dr_t+\\frac{\\partial C}{\\partial t}dt+\\frac{1}{2}\\frac{\\partial^2 C}{\\partial r_t^2}(dr_t)^2$\n",
    "\n",
    "$= \\alpha(r_t,t)\\frac{\\partial C}{\\partial r_t}dt+\\beta(r_t,t)\\frac{\\partial C}{\\partial r_t}dW_t+\\frac{\\partial C}{\\partial t}dt+\\frac{1}{2}\\frac{\\partial^2 C}{\\partial r_t^2}\\beta^2(r_t,t)dt$\n",
    "\n",
    "$=(\\alpha(r_t,t)\\frac{\\partial C}{\\partial r_t}+\\frac{1}{2}\\frac{\\partial^2 C}{\\partial r_t^2}\\beta^2(r_t,t)+\\frac{\\partial C}{\\partial t})dt+\\beta(r_t,t)\\frac{\\partial C}{\\partial r_t}dW_t$\n",
    "\n",
    "Setting drift equal to $rC$, we get:\n",
    "\n",
    "$$\n",
    "\\alpha(r_t,t)\\frac{\\partial C}{\\partial r_t}+\\frac{1}{2}\\frac{\\partial^2 C}{\\partial r_t^2}\\beta^2(r_t,t)+\\frac{\\partial C}{\\partial t}=rC\n",
    "$$"
   ]
  },
  {
   "cell_type": "markdown",
   "metadata": {},
   "source": [
    "### (b)"
   ]
  },
  {
   "cell_type": "markdown",
   "metadata": {},
   "source": [
    "$\\kappa(\\theta-r_t)\\frac{\\partial C}{\\partial r_t}+\\frac{1}{2}\\frac{\\partial^2 C}{\\partial r_t^2}\\sigma^2+\\frac{\\partial C}{\\partial t}=rC$\n",
    "\n",
    "$q_u = \\frac{1}{2}\\big[\\frac{\\kappa(\\theta-r_t)\\Delta t}{\\Delta r_t}+\\frac{\\sigma^2\\Delta t}{\\Delta r_t^2}\\big]$\n",
    "\n",
    "$q_m = 1-\\frac{\\sigma^2\\Delta t}{(\\Delta r_t)^2}$\n",
    "\n",
    "$q_d = \\frac{1}{2}\\big[-\\frac{\\kappa(\\theta-r_t)\\Delta t}{\\Delta r_t}+\\frac{\\sigma^2\\Delta t}{(\\Delta r_t)^2}\\big]$"
   ]
  },
  {
   "cell_type": "code",
   "execution_count": 18,
   "metadata": {},
   "outputs": [],
   "source": [
    "import numpy as np"
   ]
  },
  {
   "cell_type": "code",
   "execution_count": 19,
   "metadata": {},
   "outputs": [],
   "source": [
    "class Vasicek:\n",
    "    \n",
    "    def __init__(self,kappa,theta,sigma): \n",
    "        self.kappa=kappa\n",
    "        self.theta=theta\n",
    "        self.sigma=sigma"
   ]
  },
  {
   "cell_type": "code",
   "execution_count": 20,
   "metadata": {},
   "outputs": [],
   "source": [
    "hw3dynamics = Vasicek(kappa=3,theta=0.05,sigma=0.03)"
   ]
  },
  {
   "cell_type": "code",
   "execution_count": 21,
   "metadata": {},
   "outputs": [],
   "source": [
    "class Bond:\n",
    "    \n",
    "    def __init__(self, T):\n",
    "        self.T=T\n",
    "    "
   ]
  },
  {
   "cell_type": "code",
   "execution_count": 22,
   "metadata": {},
   "outputs": [],
   "source": [
    "hw3contract = Bond(T=5)"
   ]
  },
  {
   "cell_type": "code",
   "execution_count": 23,
   "metadata": {},
   "outputs": [],
   "source": [
    "class FDexplicit:\n",
    "    \n",
    "    def __init__(self, rMax, rMin, deltar, deltat, useUpwind):         \n",
    "        self.rMax=rMax\n",
    "        self.rMin=rMin\n",
    "        self.deltar=deltar\n",
    "        self.deltat=deltat\n",
    "        self.useUpwind=useUpwind\n",
    "        \n",
    "    \n",
    "    def price_bond_vasicek(self,contract,dynamics):\n",
    "    # You complete the coding of this function\n",
    "    #\n",
    "    # Returns array of all initial short rates,\n",
    "    # and the corresponding array of zero-coupon\n",
    "    # T-maturity bond prices\n",
    "\n",
    "        T = contract.T\n",
    "        N=round(T/self.deltat)\n",
    "        if abs(N-T/self.deltat) > 1e-12:\n",
    "            raise ValueError(\"Bad delta t\")\n",
    "\n",
    "        r=np.arange(self.rMax,self.rMin-self.deltar/2,-self.deltar)   #I'm making the FIRST indices of the array correspond to HIGH levels of r\n",
    "        bondprice=np.ones(np.size(r))\n",
    "        a=(dynamics.kappa*(dynamics.theta-r)*self.deltat/self.deltar)\n",
    "        b=(dynamics.sigma**2*self.deltat/(self.deltar**2))\n",
    "\n",
    "        if self.useUpwind:\n",
    "            qu=    0.5*(b+a+abs(a))#fill this in with an array.\n",
    "            qd=    0.5*(b-a+abs(a)) #fill this in with an array.\n",
    "            qm=    1-qu-qd #fill this in with an array.\n",
    "        else:\n",
    "            qu=    0.5*(a+b)#fill this in with an array.\n",
    "            qd=    0.5*(b-a)#fill this in with an array.\n",
    "            qm=    1-b#fill this in with an array.\n",
    "\n",
    "        for t in np.arange(N-1,-1,-1)*self.deltat:\n",
    "            bondprice=1/(1+r*self.deltat)*(qd*np.roll(bondprice,-1)+qm*bondprice+qu*np.roll(bondprice,1))\n",
    "\n",
    "            # It is not obvious in this case, \n",
    "            # what boundary conditions to use at the top and bottom\n",
    "            # so let us assume \"linearity\" boundary conditions\n",
    "            bondprice[0]=2*bondprice[1]-bondprice[2]\n",
    "            bondprice[-1]=2*bondprice[-2]-bondprice[-3]\n",
    "\n",
    "        return (r, bondprice)"
   ]
  },
  {
   "cell_type": "code",
   "execution_count": 24,
   "metadata": {},
   "outputs": [],
   "source": [
    "hw3FD1 = FDexplicit(rMax=0.35,rMin=-0.25,deltar=0.01,deltat=0.01,useUpwind=False)"
   ]
  },
  {
   "cell_type": "code",
   "execution_count": 25,
   "metadata": {},
   "outputs": [],
   "source": [
    "(r1, bondprice1) = hw3FD1.price_bond_vasicek(hw3contract,hw3dynamics)"
   ]
  },
  {
   "cell_type": "code",
   "execution_count": 26,
   "metadata": {},
   "outputs": [],
   "source": [
    "np.set_printoptions(precision=4,suppress=True)\n",
    "displayrows1=(r1<0.15+hw3FD1.deltar/2) & (r1>0.0-hw3FD1.deltar/2)"
   ]
  },
  {
   "cell_type": "code",
   "execution_count": 28,
   "metadata": {},
   "outputs": [
    {
     "name": "stdout",
     "output_type": "stream",
     "text": [
      "[[ 1.5000e-01 -1.4273e+09]\n",
      " [ 1.4000e-01  1.6361e+08]\n",
      " [ 1.3000e-01  2.2294e+07]\n",
      " [ 1.2000e-01 -1.3724e+06]\n",
      " [ 1.1000e-01 -1.3361e+05]\n",
      " [ 1.0000e-01  3.2966e+03]\n",
      " [ 9.0000e-02  1.3021e+02]\n",
      " [ 8.0000e-02  7.7128e-01]\n",
      " [ 7.0000e-02  7.7385e-01]\n",
      " [ 6.0000e-02  7.7643e-01]\n",
      " [ 5.0000e-02  7.7902e-01]\n",
      " [ 4.0000e-02  7.8162e-01]\n",
      " [ 3.0000e-02  7.8423e-01]\n",
      " [ 2.0000e-02  7.8685e-01]\n",
      " [ 1.0000e-02  1.4165e+03]\n",
      " [-3.3307e-16  5.1498e+04]]\n"
     ]
    }
   ],
   "source": [
    "print(np.stack((r1, bondprice1),1)[displayrows1])"
   ]
  },
  {
   "cell_type": "markdown",
   "metadata": {},
   "source": [
    "### (c) "
   ]
  },
  {
   "cell_type": "markdown",
   "metadata": {},
   "source": [
    "When $\\kappa(\\theta-r_j)\\ge 0$\n",
    "\n",
    "$\\kappa(\\theta-r_j)\\frac{C^{j+1}_{n+1}-C^{j}_{n+1}}{\\Delta r}+\\frac{1}{2}\\sigma^2\\frac{C^{j+1}_{n+1}-2C^{j}_{n+1}+C^{j-1}_{n+1}}{(\\Delta r)^2}+\\frac{C^{j}_{n+1}-C^{j}_{n}}{\\Delta t}=rC_{n}^{j}$\n",
    "\n",
    "$q_u = \\frac{\\kappa(\\theta-r_j)\\Delta t}{\\Delta r}+\\frac{\\sigma^2\\Delta t}{2(\\Delta r)^2}$\n",
    "\n",
    "$q_m = 1-\\frac{\\sigma^2\\Delta t}{(\\Delta r)^2}-\\frac{\\kappa(\\theta-r_j)\\Delta t}{\\Delta r}$\n",
    "\n",
    "$q_d = \\frac{\\sigma^2\\Delta t}{2(\\Delta r)^2}$\n",
    "\n",
    "When $\\kappa(\\theta-r_j) < 0$\n",
    "\n",
    "$\\kappa(\\theta-r_j)\\frac{C^{j}_{n+1}-C^{j-1}_{n+1}}{\\Delta r}+\\frac{1}{2}\\sigma^2\\frac{C^{j+1}_{n+1}-2C^{j}_{n+1}+C^{j-1}_{n+1}}{(\\Delta r)^2}+\\frac{C^{j}_{n+1}-C^{j}_{n}}{\\Delta t}=rC_{n}^{j}$\n",
    "\n",
    "$q_u = \\frac{\\sigma^2\\Delta t}{2(\\Delta r)^2}$\n",
    "\n",
    "$q_m = 1-\\frac{\\sigma^2\\Delta t}{(\\Delta r)^2}+\\frac{\\kappa(\\theta-r_j)\\Delta t}{\\Delta r}$\n",
    "\n",
    "$q_d = \\frac{\\sigma^2\\Delta t}{2(\\Delta r)^2}-\\frac{\\kappa(\\theta-r_j)\\Delta t}{\\Delta r}$"
   ]
  },
  {
   "cell_type": "code",
   "execution_count": 30,
   "metadata": {},
   "outputs": [],
   "source": [
    "hw3FD2 = FDexplicit(rMax=0.35,rMin=-0.25,deltar=0.01,deltat=0.01,useUpwind=True)"
   ]
  },
  {
   "cell_type": "code",
   "execution_count": 31,
   "metadata": {},
   "outputs": [],
   "source": [
    "(r2, bondprice2) = hw3FD2.price_bond_vasicek(hw3contract,hw3dynamics)"
   ]
  },
  {
   "cell_type": "code",
   "execution_count": 32,
   "metadata": {},
   "outputs": [],
   "source": [
    "np.set_printoptions(precision=4,suppress=True)\n",
    "displayrows2=(r2<0.15+hw3FD2.deltar/2) & (r2>0.0-hw3FD2.deltar/2)"
   ]
  },
  {
   "cell_type": "code",
   "execution_count": 33,
   "metadata": {},
   "outputs": [
    {
     "name": "stdout",
     "output_type": "stream",
     "text": [
      "[[ 0.15    0.7536]\n",
      " [ 0.14    0.7561]\n",
      " [ 0.13    0.7586]\n",
      " [ 0.12    0.7611]\n",
      " [ 0.11    0.7637]\n",
      " [ 0.1     0.7662]\n",
      " [ 0.09    0.7688]\n",
      " [ 0.08    0.7713]\n",
      " [ 0.07    0.7739]\n",
      " [ 0.06    0.7765]\n",
      " [ 0.05    0.7791]\n",
      " [ 0.04    0.7817]\n",
      " [ 0.03    0.7843]\n",
      " [ 0.02    0.7869]\n",
      " [ 0.01    0.7895]\n",
      " [-0.      0.7922]]\n"
     ]
    }
   ],
   "source": [
    "print(np.stack((r2, bondprice2),1)[displayrows2])"
   ]
  },
  {
   "cell_type": "markdown",
   "metadata": {},
   "source": [
    "### (d) "
   ]
  },
  {
   "cell_type": "markdown",
   "metadata": {},
   "source": [
    "By Taylor's theorem:\n",
    "\n",
    "$f(x+h)=f(x)+hf'(x)+\\frac{1}{2}h^2f''(x)+O(h^3)$\n",
    "\n",
    "$f(x-h)=f(x)-hf'(x)+\\frac{1}{2}h^2f''(x)+O(h^3)$\n",
    "\n",
    "$\\big|\\frac{f(x+h)-f(x)}{h}-f'(x)\\big|=\\frac{1}{2}hf''(x)+\\frac{O(h^3)}{h}=O(h)$\n",
    "\n",
    "$\\big|\\frac{f(x+h)-f(x-h)}{2h}-f'(x)\\big|=\\frac{O(h^3)}{h}=O(h^2)$"
   ]
  },
  {
   "cell_type": "markdown",
   "metadata": {},
   "source": [
    "### (e) "
   ]
  },
  {
   "cell_type": "code",
   "execution_count": 34,
   "metadata": {},
   "outputs": [
    {
     "data": {
      "text/plain": [
       "3296.5929237489718"
      ]
     },
     "execution_count": 34,
     "metadata": {},
     "output_type": "execute_result"
    }
   ],
   "source": [
    "(np.stack((r1, bondprice1),1)[displayrows1])[abs((np.stack((r1, bondprice1),1)[displayrows1])[:,0]-0.1)<1e-12][0,1]"
   ]
  },
  {
   "cell_type": "code",
   "execution_count": 35,
   "metadata": {},
   "outputs": [
    {
     "data": {
      "text/plain": [
       "0.7662252882450523"
      ]
     },
     "execution_count": 35,
     "metadata": {},
     "output_type": "execute_result"
    }
   ],
   "source": [
    "(np.stack((r2, bondprice2),1)[displayrows2])[abs((np.stack((r2, bondprice2),1)[displayrows2])[:,0]-0.1)<1e-12][0,1]"
   ]
  },
  {
   "cell_type": "markdown",
   "metadata": {},
   "source": [
    "The upwind calculation is more accurate."
   ]
  },
  {
   "cell_type": "markdown",
   "metadata": {},
   "source": [
    "### (f) "
   ]
  },
  {
   "cell_type": "markdown",
   "metadata": {},
   "source": [
    "less;greater"
   ]
  },
  {
   "cell_type": "markdown",
   "metadata": {},
   "source": [
    "### (g) "
   ]
  },
  {
   "cell_type": "code",
   "execution_count": 61,
   "metadata": {},
   "outputs": [
    {
     "data": {
      "text/plain": [
       "0.05458660238621129"
      ]
     },
     "execution_count": 61,
     "metadata": {},
     "output_type": "execute_result"
    }
   ],
   "source": [
    "#0.12 case\n",
    "ytm_1 = np.log(abs(1/((np.stack((r2, bondprice2),1)[displayrows2])[abs((np.stack((r1, bondprice1),1)[displayrows1])[:,0]-0.12)<1e-12][0,1])))/5.0\n",
    "ytm_1"
   ]
  },
  {
   "cell_type": "code",
   "execution_count": 62,
   "metadata": {},
   "outputs": [
    {
     "data": {
      "text/plain": [
       "0.04792684524038049"
      ]
     },
     "execution_count": 62,
     "metadata": {},
     "output_type": "execute_result"
    }
   ],
   "source": [
    "#0.02 case\n",
    "ytm_2 = np.log(abs(1/((np.stack((r2, bondprice2),1)[displayrows2])[abs((np.stack((r1, bondprice1),1)[displayrows1])[:,0]-0.02)<1e-12][0,1])))/5.0\n",
    "ytm_2"
   ]
  },
  {
   "cell_type": "markdown",
   "metadata": {},
   "source": [
    "Since $\\theta = 0.05$, then for $r_0 = 0.12 > 0.05 = \\theta$, we can get $r_0>ytm>\\theta$. For $r_0 = 0.02$, $r_0 < ytm < \\theta$."
   ]
  },
  {
   "cell_type": "markdown",
   "metadata": {},
   "source": [
    "## Question 2"
   ]
  },
  {
   "cell_type": "markdown",
   "metadata": {},
   "source": [
    "### (a) "
   ]
  },
  {
   "cell_type": "markdown",
   "metadata": {},
   "source": [
    "We know that\n",
    "\n",
    "$\\sigma_{imp}=\\bar{\\sigma_t}=\\sqrt{\\frac{1}{T}\\int_0^T\\sigma^2(t)dt}$\n",
    "It is related to $T$ but not $K$.\n",
    "\n",
    "Thus, the dynamics can generate non-constant term-structure of implied volatility but not an implied volatility skew."
   ]
  },
  {
   "cell_type": "markdown",
   "metadata": {},
   "source": [
    "### (b) "
   ]
  },
  {
   "cell_type": "code",
   "execution_count": 41,
   "metadata": {},
   "outputs": [],
   "source": [
    "from scipy.stats import norm\n",
    "from scipy.optimize import bisect, brentq"
   ]
  },
  {
   "cell_type": "code",
   "execution_count": 46,
   "metadata": {},
   "outputs": [],
   "source": [
    "def BSprice(sigma,S,rGrow,r,K,T):\n",
    "        \n",
    "    F = S*np.exp(rGrow*T)\n",
    "    sd = sigma*np.sqrt(T)\n",
    "    d1 = np.log(F/K)/sd+sd/2\n",
    "    d2 = d1-sd\n",
    "    return np.exp(-r*T)*(F*norm.cdf(d1)-K*norm.cdf(d2))"
   ]
  },
  {
   "cell_type": "code",
   "execution_count": 53,
   "metadata": {},
   "outputs": [],
   "source": [
    "def IV(C,S,rGrow,r,K,T):\n",
    "    df = np.exp(-r*T)\n",
    "    F = S / df\n",
    "    lowerbound = np.max([0,(F-K)*df])\n",
    "    if C<lowerbound:\n",
    "        return np.nan\n",
    "    if C==lowerbound:\n",
    "        return 0\n",
    "    if C>=F*np.exp(-r*T):\n",
    "        return np.nan \n",
    "    \n",
    "    sigma = 0.2\n",
    "    while BSprice(sigma,S,rGrow,r,K,T)>C:\n",
    "        sigma /= 2\n",
    "    while BSprice(sigma,S,rGrow,r,K,T)<C:\n",
    "        sigma *= 2\n",
    "    hi = sigma\n",
    "    lo = hi/2\n",
    "    function = lambda x: BSprice(x,S,rGrow,r,K,T)-C\n",
    "    impliedVolatility = brentq(function , a=lo, b=hi, xtol=1e-4)\n",
    "    return impliedVolatility\n",
    "    \n"
   ]
  },
  {
   "cell_type": "code",
   "execution_count": 54,
   "metadata": {},
   "outputs": [
    {
     "name": "stdout",
     "output_type": "stream",
     "text": [
      "[0.39732050375365563, 0.38017110912025387, 0.29509733829743456]\n"
     ]
    }
   ],
   "source": [
    "S = 100\n",
    "K = 100\n",
    "rGrow = 0.05\n",
    "r = 0.05\n",
    "T = [0.1,0.2,0.5]\n",
    "C = [5.25,7.25,9.5]\n",
    "imp_vols = []\n",
    "for i in range(3):\n",
    "    imp_vols.append(IV(C[i],S,rGrow,r,K,T[i]))\n",
    "print(imp_vols)"
   ]
  },
  {
   "cell_type": "markdown",
   "metadata": {},
   "source": [
    "\n",
    "$\\bar{\\sigma_t}=\\sqrt{\\frac{1}{T}\\int_0^T\\sigma^2(t)dt}$\n",
    "\n",
    "\n",
    "$\\sigma(t)=\\begin{cases} \n",
    "      \\bar\\sigma_1 & 0 \\leq t\\leq 0.1 \\\\\n",
    "      \\sqrt{2\\bar\\sigma_2^2-\\bar\\sigma_1^2} & 0.1 < t \\leq 0.2\\\\\n",
    "      \\sqrt{\\frac{1}{3}(5\\bar\\sigma_3^2-2\\bar\\sigma_2^2)} & 0.2 < t \\leq 0.5\n",
    "\\end{cases}$\n"
   ]
  },
  {
   "cell_type": "markdown",
   "metadata": {},
   "source": [
    "### (c) "
   ]
  },
  {
   "cell_type": "markdown",
   "metadata": {},
   "source": [
    "$\\bar\\sigma_{0.4}=\\sqrt{\\frac{1}{0.4}\\int_0^{0.4}\\sigma^2(t)dt}$\n",
    "\n",
    "$=\\sqrt{\\frac{1}{0.4}*(0.1\\bar\\sigma_1^2+0.1(2\\bar\\sigma_2^2-\\bar\\sigma_1^2)+0.2(\\frac{1}{3}(5\\bar\\sigma_3^2-2\\bar\\sigma_2^2))}$\n",
    "\n",
    "$=\\sqrt{\\frac{5}{6}\\bar\\sigma_3^2+\\frac{1}{6}\\bar\\sigma^2_2}$\n"
   ]
  },
  {
   "cell_type": "code",
   "execution_count": 63,
   "metadata": {},
   "outputs": [
    {
     "name": "stdout",
     "output_type": "stream",
     "text": [
      "The time-0 price of an at-the-money European call with expiry 0.4 is 8.78420254114681\n"
     ]
    }
   ],
   "source": [
    "vol_c = (((5/6)*imp_vols[2]**2)+((1/6)*imp_vols[1]**2))** 0.5\n",
    "T_c = 0.4\n",
    "price = BSprice(vol_c,S,rGrow,r,K,T_c)\n",
    "print(\"The time-0 price of an at-the-money European call with expiry 0.4 is %s\" %price)"
   ]
  },
  {
   "cell_type": "code",
   "execution_count": null,
   "metadata": {},
   "outputs": [],
   "source": []
  }
 ],
 "metadata": {
  "anaconda-cloud": {},
  "kernelspec": {
   "display_name": "Python 3 (ipykernel)",
   "language": "python",
   "name": "python3"
  },
  "language_info": {
   "codemirror_mode": {
    "name": "ipython",
    "version": 3
   },
   "file_extension": ".py",
   "mimetype": "text/x-python",
   "name": "python",
   "nbconvert_exporter": "python",
   "pygments_lexer": "ipython3",
   "version": "3.9.13"
  },
  "toc": {
   "base_numbering": 1,
   "nav_menu": {},
   "number_sections": true,
   "sideBar": true,
   "skip_h1_title": false,
   "title_cell": "Table of Contents",
   "title_sidebar": "Contents",
   "toc_cell": false,
   "toc_position": {},
   "toc_section_display": true,
   "toc_window_display": false
  }
 },
 "nbformat": 4,
 "nbformat_minor": 2
}
