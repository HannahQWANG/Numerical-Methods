{
 "cells": [
  {
   "cell_type": "markdown",
   "metadata": {},
   "source": [
    "# FINM320 Numerical Method\n",
    "# HW2\n",
    "# Hannah Wang"
   ]
  },
  {
   "cell_type": "markdown",
   "metadata": {},
   "source": [
    "# Question 1"
   ]
  },
  {
   "cell_type": "code",
   "execution_count": 1,
   "metadata": {},
   "outputs": [],
   "source": [
    "import numpy as np"
   ]
  },
  {
   "cell_type": "code",
   "execution_count": 2,
   "metadata": {},
   "outputs": [],
   "source": [
    "class localvolDynamics:\n",
    "    \n",
    "    def __init__(self, S0, r, q, maxvol, localvol): \n",
    "        self.S0 = S0\n",
    "        self.r = r\n",
    "        self.q = q\n",
    "        self.maxvol = maxvol\n",
    "        self.localvol = localvol\n"
   ]
  },
  {
   "cell_type": "code",
   "execution_count": 3,
   "metadata": {},
   "outputs": [],
   "source": [
    "hw2dynamics = localvolDynamics(S0 = 100, r = 0.06, q = 0.01, maxvol = 0.6, \n",
    "                     localvol = lambda S,t: np.minimum(0.2+5*np.log(S/100)**2+0.1*np.exp(-t), 0.6))\n",
    "\n",
    "# Note that hw2dynamics.localvol is a function \n",
    "# that may be invoked in the usual way, for example:\n",
    "# hw2dynamics.localvol( exchangerate , time )"
   ]
  },
  {
   "cell_type": "code",
   "execution_count": 4,
   "metadata": {},
   "outputs": [],
   "source": [
    "class CallOnAmericanPut:\n",
    "\n",
    "    def __init__(self, putexpiry, putstrike, callexpiry, callstrike):\n",
    "        self.putexpiry = putexpiry\n",
    "        self.putstrike = putstrike\n",
    "        self.callexpiry = callexpiry\n",
    "        self.callstrike = callstrike\n",
    "        "
   ]
  },
  {
   "cell_type": "code",
   "execution_count": 5,
   "metadata": {},
   "outputs": [],
   "source": [
    "hw2contract = CallOnAmericanPut(putexpiry=0.75, putstrike=95, callexpiry=0.25, callstrike=10)"
   ]
  },
  {
   "cell_type": "code",
   "execution_count": 12,
   "metadata": {},
   "outputs": [],
   "source": [
    "class TrinomTree:\n",
    "    \n",
    "    def __init__(self, N):\n",
    "        self.N = N\n",
    "        \n",
    "    # You complete the coding of this function\n",
    "    def price_compound_localvol(self, contract, dynamics):\n",
    "        \n",
    "        put_expiry, put_strike = contract.putexpiry, contract.putstrike\n",
    "        call_expiry, call_strike = contract.callexpiry, contract.callstrike\n",
    "        S0, r, q = dynamics.S0, dynamics.r, dynamics.q\n",
    "        max_vol, local_vol = dynamics.maxvol, dynamics.localvol\n",
    "        \n",
    "        delta_t = put_expiry / self.N\n",
    "        representative_vol = local_vol(S0, 0)\n",
    "        delta_x = max(representative_vol * np.sqrt(3 * delta_t), max_vol * np.sqrt(delta_t))\n",
    "        S = S0 * np.exp(np.linspace(self.N, -self.N, num=2*self.N+1, endpoint=True) * delta_x)\n",
    "        put_price = np.maximum(put_strike - S, 0)\n",
    "        \n",
    "        \n",
    "        for t in np.linspace(self.N-1, 0, num=self.N, endpoint=True) * delta_t:\n",
    "            S = S[1:-1]\n",
    "            sigma = local_vol(S, t)\n",
    "            \n",
    "            nu = (r - q) - sigma ** 2/2\n",
    "            P_u = 0.5 * ((sigma ** 2 * delta_t + nu ** 2 * delta_t ** 2) / delta_x ** 2 + nu * delta_t / delta_x)\n",
    "            P_d = 0.5 * ((sigma ** 2 * delta_t + nu ** 2 * delta_t ** 2) / delta_x ** 2 - nu * delta_t / delta_x)\n",
    "            P_m = 1 - (sigma ** 2 * delta_t + nu ** 2 * delta_t ** 2) / delta_x ** 2\n",
    "            \n",
    "            up_put_prices = put_price[:-2]\n",
    "            mid_put_prices = put_price[1:-1]\n",
    "            down_put_prices = put_price[2:]\n",
    "            \n",
    "            put_intrinsic_value = np.maximum(put_strike - S, 0)\n",
    "            put_price = np.maximum(put_intrinsic_value,\n",
    "                                   np.exp(-r * delta_t) * (P_u * up_put_prices + P_m * mid_put_prices + P_d * down_put_prices))\n",
    "            \n",
    "            if abs(t-call_expiry)<0.0001:\n",
    "                call_price = np.maximum(put_price - call_strike, 0)\n",
    "            elif t < call_expiry:\n",
    "                up_call_prices = call_price[:-2]\n",
    "                mid_call_prices = call_price[1:-1]\n",
    "                down_call_prices = call_price[2:]\n",
    "                call_price = np.exp(-r * delta_t) * (P_u * up_call_prices + P_m * mid_call_prices + P_d * down_call_prices)\n",
    "                \n",
    "        price_of_put = put_price[0]\n",
    "        \n",
    "        price_of_call_on_put = call_price[0]\n",
    "        \n",
    "        return (price_of_put, price_of_call_on_put)\n",
    "\n",
    "    "
   ]
  },
  {
   "cell_type": "code",
   "execution_count": 49,
   "metadata": {},
   "outputs": [],
   "source": [
    "hw2tree = TrinomTree(N=9000)  #change if necessary to get $0.01 accuracy, in your judgment"
   ]
  },
  {
   "cell_type": "code",
   "execution_count": 50,
   "metadata": {},
   "outputs": [],
   "source": [
    "(answer_part_a, answer_part_b) = hw2tree.price_compound_localvol(hw2contract,hw2dynamics)"
   ]
  },
  {
   "cell_type": "code",
   "execution_count": 51,
   "metadata": {},
   "outputs": [
    {
     "data": {
      "text/plain": [
       "(7.007311562145161, 1.591881397156099)"
      ]
     },
     "execution_count": 51,
     "metadata": {},
     "output_type": "execute_result"
    }
   ],
   "source": [
    "(answer_part_a, answer_part_b) "
   ]
  },
  {
   "cell_type": "markdown",
   "metadata": {},
   "source": [
    "# Question 2"
   ]
  },
  {
   "cell_type": "markdown",
   "metadata": {},
   "source": [
    "## 2(a)"
   ]
  },
  {
   "cell_type": "markdown",
   "metadata": {},
   "source": [
    "The exact formula for the Black-Scholes delta of a vanilla call is\n",
    "\n",
    "\\begin{equation}\n",
    "\\Delta = N(d_1),\n",
    "\\end{equation}\n",
    "\n",
    "where\n",
    "\n",
    "\\begin{equation}\n",
    "d_1 = \\frac{\\log(S / K) + (r + \\frac{\\sigma^2}{2}) (T - t)}{\\sigma \\sqrt{T - t}} = \\frac{(r + \\frac{\\sigma^2}{2}) \\sqrt{T}}{\\sigma}.\n",
    "\\end{equation}\n",
    "\n",
    "if $S = K$ and $t = 0$.\n",
    "\n",
    "\n",
    "By first-order Taylor expansion at $x = 0$,\n",
    "\n",
    "\\begin{equation}\n",
    "N(x) \\approx N(0) + N'(0) \\cdot x.\n",
    "\\end{equation}\n",
    "\n",
    "We know that $N(0) = 0.5$ and $N'(x) = \\frac{1}{\\sqrt{2 \\pi}} \\exp(\\frac{-x^2}{2})$, $N'(0) = \\frac{1}{\\sqrt{2\\pi}} \\approx 0.4$. Also, $\\sigma = 0.2$, $T = 0.25$, and $r = 0.01$.\n",
    "\n",
    "Thus,\n",
    "\n",
    "\\begin{align}\n",
    "\\Delta &\\approx 0.5 + 0.4 \\cdot \\frac{(r + \\frac{\\sigma^2}{2}) \\sqrt{T}}{\\sigma}\\\\\n",
    "&= 0.5 + 0.4 \\cdot \\frac{(0.01 + \\frac{0.2^2}{2}) \\sqrt{0.25}}{0.2}\\\\\n",
    "&= 0.53.\n",
    "\\end{align}\n"
   ]
  },
  {
   "cell_type": "markdown",
   "metadata": {},
   "source": [
    "## 2(b)"
   ]
  },
  {
   "cell_type": "markdown",
   "metadata": {},
   "source": [
    "Since dollar delta is 3, then $S_0 \\Delta\\ = 3$, $\\Delta\\ = 3/4$.\n",
    "\n",
    "Since dollar gamma is 0.02, then $\\frac{1}{100}S_0^2 \\Gamma = 0.02$, $\\Gamma\\ = 1/8$.\n",
    "\n",
    "By second-order Taylor expansion at $S_0$, $C(S) \\approx C(S_0) + \\Delta (S - S_0) + \\frac{\\Gamma}{2} (S - S_0)^2$.\n",
    "\n",
    "Thus, $C(3.6) \\approx 5 + \\frac{3}{4} (3.6 - 4) + \\frac{1}{16} (3.6 - 4)^2 = 4.71$.\n"
   ]
  }
 ],
 "metadata": {
  "anaconda-cloud": {},
  "kernelspec": {
   "display_name": "Python 3 (ipykernel)",
   "language": "python",
   "name": "python3"
  },
  "language_info": {
   "codemirror_mode": {
    "name": "ipython",
    "version": 3
   },
   "file_extension": ".py",
   "mimetype": "text/x-python",
   "name": "python",
   "nbconvert_exporter": "python",
   "pygments_lexer": "ipython3",
   "version": "3.9.13"
  },
  "toc": {
   "base_numbering": 1,
   "nav_menu": {},
   "number_sections": true,
   "sideBar": true,
   "skip_h1_title": false,
   "title_cell": "Table of Contents",
   "title_sidebar": "Contents",
   "toc_cell": false,
   "toc_position": {},
   "toc_section_display": true,
   "toc_window_display": false
  }
 },
 "nbformat": 4,
 "nbformat_minor": 1
}
